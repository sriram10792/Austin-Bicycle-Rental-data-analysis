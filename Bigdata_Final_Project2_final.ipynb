{
 "cells": [
  {
   "cell_type": "markdown",
   "metadata": {},
   "source": [
    "Austin Bicycle Rental Data Analytics\n",
    "\n",
    "The data set is from https://data.austintexas.gov/dataset/Austin-B-Cycle-Kiosk-Locations/qd73-bsdg\n",
    "                     https://data.austintexas.gov/dataset/Austin-B-Cycle-Trips/tyfh-5r8s\n",
    "                     \n",
    "The project is divided into 4 uses cases:\n",
    "1.Finding Average Bicycle rental duration.\n",
    "2.Finding the most and least used kioscks.\n",
    "3.Finding the best membership plan for walk up members using Kmeans clustiering.\n",
    "4.Finding the most prefered membership type using Logistic regression.\n",
    "\n",
    "\n",
    "Credit:Code line 108 to 123 was referred from https://github.com/davidloke/PySparkBCycleAssignment/blob/master/Assignment%20Notebook.ipynb \n",
    "\n"
   ]
  },
  {
   "cell_type": "code",
   "execution_count": 108,
   "metadata": {
    "collapsed": true
   },
   "outputs": [],
   "source": [
    "#Importing necessary libraries \n",
    "#Creating spark context\n",
    "from pyspark.mllib.clustering import KMeans, KMeansModel\n",
    "from numpy import array\n",
    "from math import sqrt\n",
    "from pyspark import SparkContext, SparkConf\n",
    "conf = SparkConf().setAppName('Bicycle')\n",
    "from pyspark.sql import SparkSession\n",
    "spark = SparkSession.builder.appName(\"Bicycle\").getOrCreate()\n"
   ]
  },
  {
   "cell_type": "code",
   "execution_count": 109,
   "metadata": {
    "collapsed": true
   },
   "outputs": [],
   "source": [
    "sc = SparkContext.getOrCreate(conf=conf)"
   ]
  },
  {
   "cell_type": "code",
   "execution_count": 110,
   "metadata": {},
   "outputs": [
    {
     "data": {
      "text/plain": [
       "['9900285854,Annual (San Antonio B-cycle),207,10/26/2014,13:12:00,2537,West & 6th St.,2707,Rainey St @ Cummings,76,10,2014',\n",
       " '9900285855,24-Hour Kiosk (Austin B-cycle),969,10/26/2014,13:12:00,2498,Convention Center / 4th St. @ MetroRail,2566,Pfluger Bridge @ W 2nd Street,58,10,2014',\n",
       " '9900285856,Annual Membership (Austin B-cycle),214,10/26/2014,13:12:00,2537,West & 6th St.,2496,8th & Congress,8,10,2014',\n",
       " '9900285857,24-Hour Kiosk (Austin B-cycle),745,10/26/2014,13:12:00,,Zilker Park at Barton Springs & William Barton Drive,,Zilker Park at Barton Springs & William Barton Drive,28,10,2014',\n",
       " '9900285858,24-Hour Kiosk (Austin B-cycle),164,10/26/2014,13:12:00,2538,Bullock Museum @ Congress & MLK,,Convention Center/ 3rd & Trinity,15,10,2014']"
      ]
     },
     "execution_count": 110,
     "metadata": {},
     "output_type": "execute_result"
    }
   ],
   "source": [
    "# Loading the data sets\n",
    "bcycleKiosk = sc.textFile(\"C:/Users/karth/Desktop/Bigdata/Austin_B-Cycle_Kiosk_Locations.csv\")\n",
    "bcycleTrips = sc.textFile(\"C:/Users/karth/Desktop/Bigdata/Austin_B-Cycle_Trips.csv\")\n",
    "\n",
    "# Remove Header from bcycleKiosk,bcycleTrips\n",
    "kioskHeader = bcycleKiosk.first()\n",
    "bcycleKioskNoHeader = bcycleKiosk.filter(lambda line: line != kioskHeader)\n",
    "tripHeader = bcycleTrips.first()\n",
    "bcycleTripsNoHeader = bcycleTrips.filter(lambda line: line != tripHeader)\n",
    "bcycleTripsNoHeader.take(5)\n",
    "\n",
    "# Credit from https://community.hortonworks.com/questions/113255/removing-header-from-csv-file-through-pyspark.html"
   ]
  },
  {
   "cell_type": "code",
   "execution_count": 111,
   "metadata": {},
   "outputs": [
    {
     "data": {
      "text/plain": [
       "['2504,South Congress & Elizabeth,active,30.24891,-97.75019,\"(30.24891, -97.75019)\"',\n",
       " '2536,Waller & 6th St.,closed,30.26461,-97.73049,\"(30.26461, -97.73049)\"',\n",
       " '2537,West & 6th St.,active,30.27041,-97.75046,\"(30.27041, -97.75046)\"',\n",
       " '2538,Bullock Museum @ Congress & MLK,active,30.28039,-97.73809,\"(30.28039, -97.73809)\"',\n",
       " '2539,Convention Center / 3rd & Trinity,active,30.26426,-97.74023,\"(30.26426, -97.74023)\"']"
      ]
     },
     "execution_count": 111,
     "metadata": {},
     "output_type": "execute_result"
    }
   ],
   "source": [
    "bcycleKioskNoHeader.take(5)"
   ]
  },
  {
   "cell_type": "code",
   "execution_count": 112,
   "metadata": {},
   "outputs": [
    {
     "data": {
      "text/plain": [
       "PythonRDD[281] at RDD at PythonRDD.scala:48"
      ]
     },
     "execution_count": 112,
     "metadata": {},
     "output_type": "execute_result"
    }
   ],
   "source": [
    "\n",
    "period = '2016'\n",
    "\n",
    "# Extract only required fields for the year 2016: bicycle_id, checkout_date, and trip_duration_minutes fields\n",
    "bcycleTripsNoHeaderIn2016 = bcycleTripsNoHeader.map(lambda line: line.split(\",\")).filter(lambda fields: fields[11] == period).filter(lambda fields: len(fields[2])>0)\n",
    "bcycleTripsNoHeaderIn2016.take(5)\n",
    "bcycleTripPerBikeDate = bcycleTripsNoHeaderIn2016.filter(lambda fields: int(fields[9]) > 0).map(lambda fields:((fields[2],fields[3]),fields[9]))\n",
    "\n",
    "# Total trip duration per bike, per day\n",
    "bcycleTripPerBikeDateTotalTrip = bcycleTripPerBikeDate.reduceByKey(lambda v1, v2: int(v1) + int(v2))\n",
    "\n",
    "# Creation of rdd using flatmapvalue to get 2 records per trip: (bike_id, checkout_date) and (bike_id,trip_duration_minutes)\n",
    "bcycleTripPerBikeDateTotalTripKeyByBikeDate = bcycleTripPerBikeDateTotalTrip.flatMapValues(lambda x : str(x)).map(lambda line: (line[0][0],[line[0][1],line[1]]))\n",
    "bcycleTripPerBikeFlatMap = bcycleTripPerBikeDateTotalTripKeyByBikeDate.flatMapValues(lambda x: x)\n",
    "tupleBikeDate = bcycleTripPerBikeFlatMap.filter(lambda line: \"/\" in line[1])\n",
    "tupleBikeDuration = bcycleTripPerBikeFlatMap.filter(lambda line: \"/\" not in line[1])\n",
    "\n",
    "# Sum the total trip duration\n",
    "tupleBikeSumDurationKeyBikeId = tupleBikeDuration.reduceByKey(lambda v1, v2: str(int(v1) + int(v2)))\n",
    "\n",
    "# total number of trips \n",
    "tupleBikeSumTripsKeyBikeId = tupleBikeDate.map(lambda fields: (fields[0],1)).reduceByKey(lambda v1, v2: str(int(v1) + int(v2)))\n",
    "\n",
    "# Produce the Expected Output Format: (bike_id, number_of_trips, total_trip_duration, avg_rental_duration)\n",
    "expectedOutputFormat = tupleBikeSumTripsKeyBikeId.join(tupleBikeSumDurationKeyBikeId).map(lambda x: (int(x[0]),[x[1][0],x[1][1],int(x[1][1])/float(x[1][0])]))\n",
    "\n",
    "# Scenario A: Find the top 5 highest average rental duration\n",
    "expectedOutputFormat.sortBy((lambda fields: fields[1][2]),False)\n",
    "\n",
    "# Scenario B: Find the bicycle with the most number of trips \n",
    "expectedOutputFormat.sortBy((lambda fields: fields[1][0]),False)"
   ]
  },
  {
   "cell_type": "code",
   "execution_count": 113,
   "metadata": {
    "collapsed": true
   },
   "outputs": [],
   "source": [
    "import pyspark.sql.functions as func"
   ]
  },
  {
   "cell_type": "code",
   "execution_count": 114,
   "metadata": {
    "scrolled": true
   },
   "outputs": [
    {
     "name": "stdout",
     "output_type": "stream",
     "text": [
      "+-----------------------+--------------------+\n",
      "|kiosk_id_least_activity|          kiosk_name|\n",
      "+-----------------------+--------------------+\n",
      "|                   2561|State Capitol Vis...|\n",
      "|                   2823|Capital Metro HQ ...|\n",
      "|                   3293|East 2nd & Pedern...|\n",
      "|                   3381|East 7th & Pleasa...|\n",
      "+-----------------------+--------------------+\n",
      "\n"
     ]
    }
   ],
   "source": [
    "#creating the Schema for the Trips Data Frame \n",
    "from pyspark.sql.types import *\n",
    "trip_schema = StructType( [\n",
    "    StructField('trip_id', StringType(), True),\n",
    "    StructField('membership_type', StringType(), True),\n",
    "    StructField('bicycle_id', StringType(), True),\n",
    "    StructField('checkout_date', StringType(), True),\n",
    "    StructField('checkout_time', StringType(), True),\n",
    "    StructField('checkout_kiosk_id', StringType(), True),\n",
    "    StructField('checkout_kiosk', StringType(), True),\n",
    "    StructField('return_kiosk_id', StringType(), True),\n",
    "    StructField('return_kiosk', StringType(), True),\n",
    "    StructField('trip_duration_minutes', StringType(), True),\n",
    "    StructField('month', StringType(), True),\n",
    "    StructField('year', StringType(), True) ])\n",
    "#creating the Schema for the Kiosk Data Frame \n",
    "kiosk_schema = StructType( [\n",
    "    StructField('kiosk_id', StringType(), True),\n",
    "    StructField('kiosk_name', StringType(), True),\n",
    "    StructField('kiosk_status', StringType(), True),\n",
    "    StructField('latitude', StringType(), True),\n",
    "    StructField('longitude', StringType(), True),\n",
    "    StructField('location', StringType(), True) ])\n",
    "\n",
    "# Create the Data Frame for Trips and Kiosk\n",
    "trips = spark.read.csv(\"C:/Users/karth/Desktop/Bigdata/Austin_B-Cycle_Trips.csv\", header=False, nullValue=\"na\", schema=trip_schema)\n",
    "kiosks = spark.read.csv(\"C:/Users/karth/Desktop/Bigdata/Austin_B-Cycle_Kiosk_Locations.csv\", header=False, nullValue=\"na\", schema=kiosk_schema)\n",
    "\n",
    "# Choosing records from March 2016 \n",
    "trips2016 = trips.filter('year == 2016').filter('month == 3')\n",
    "\n",
    "# Count the number of checkin and checkout activities that each kiosk experienced\n",
    "trips2016Checkout = trips2016.groupBy('checkout_kiosk_id').agg({'checkout_kiosk_id': 'count'})\n",
    "trips2016Checkin = trips2016.groupBy('return_kiosk_id').agg({'return_kiosk_id': 'count'})\n",
    "\n",
    "#Top 3 kiosks for checkout/checkin activity\n",
    "top3Checkout = trips2016Checkout.orderBy('count(checkout_kiosk_id)', ascending = False).limit(3)\n",
    "top3Checkin = trips2016Checkin.orderBy('count(return_kiosk_id)', ascending = False).limit(3)\n",
    "\n",
    "#Bottom 3 kiosks for checkout/checkin activity\n",
    "bottom3Checkout = trips2016Checkout.orderBy('count(checkout_kiosk_id)', ascending = True).limit(3)\n",
    "bottom3Checkin = trips2016Checkin.orderBy('count(return_kiosk_id)', ascending = True).limit(3)\n",
    "\n",
    "#Show the distinct kiosks that have the LEAST checkout/checkin activity \n",
    "bottom3Union = bottom3Checkin.unionAll(bottom3Checkout).select('return_kiosk_id').selectExpr('return_kiosk_id as kiosk_id_least_activity').distinct()\n",
    "bottom3Union.join(kiosks, bottom3Union.kiosk_id_least_activity == kiosks.kiosk_id).select('kiosk_id_least_activity', \"kiosk_name\").show()\n",
    "\n",
    "\n"
   ]
  },
  {
   "cell_type": "code",
   "execution_count": 115,
   "metadata": {},
   "outputs": [
    {
     "name": "stdout",
     "output_type": "stream",
     "text": [
      "+----------------------+--------------------+\n",
      "|kiosk_id_most_activity|          kiosk_name|\n",
      "+----------------------+--------------------+\n",
      "|                  2539|Convention Center...|\n",
      "|                  2498|Convention Center...|\n",
      "|                  2563|Davis at Rainey S...|\n",
      "+----------------------+--------------------+\n",
      "\n"
     ]
    }
   ],
   "source": [
    "# Distinct kiosks that have the MOST checkout/checkin activity \n",
    "top3Union = top3Checkin.unionAll(top3Checkout).select('return_kiosk_id').selectExpr('return_kiosk_id as kiosk_id_most_activity').distinct()\n",
    "top3Union.join(kiosks, top3Union.kiosk_id_most_activity == kiosks.kiosk_id).select('kiosk_id_most_activity', \"kiosk_name\").show()\n"
   ]
  },
  {
   "cell_type": "markdown",
   "metadata": {},
   "source": [
    "### K Means Clustering "
   ]
  },
  {
   "cell_type": "code",
   "execution_count": 116,
   "metadata": {
    "collapsed": true
   },
   "outputs": [],
   "source": [
    "# Loading the dataset\n",
    "bcycleCust = sc.textFile(\"C:/Users/karth/Desktop/Bigdata/Austin_B-Cycle_Trips1.csv\")\n",
    "\n"
   ]
  },
  {
   "cell_type": "code",
   "execution_count": 117,
   "metadata": {},
   "outputs": [
    {
     "data": {
      "text/plain": [
       "'Trip_ID,Membership_Type,Bicycle_ID,Checkout_Date,Checkout_Time,Checkout_Kiosk_ID,Checkout_Kiosk,Return_Kiosk ID,Return_Kiosk,Trip_Duration Minutes,Month,Year,Age_Range,Gender,Payment_Type'"
      ]
     },
     "execution_count": 117,
     "metadata": {},
     "output_type": "execute_result"
    }
   ],
   "source": [
    "bcycleCust.max()"
   ]
  },
  {
   "cell_type": "code",
   "execution_count": 118,
   "metadata": {
    "collapsed": true
   },
   "outputs": [],
   "source": [
    "# Removing the Header for bcycleKiosk \n",
    "custHeader = bcycleCust.first()\n",
    "bcycleCustNoHeader = bcycleCust.filter(lambda line: line != custHeader)\n",
    "\n",
    "# Filter only 2016 records \n",
    "bcycleCust2016 = bcycleCustNoHeader.map(lambda line: line.split(','))\n",
    "\n",
    "# Choosing features of interest: membership_type, age_range, gender, payment_type\n",
    "bcycleCust2016Fields = bcycleCust2016.map(lambda fields: [fields[1],fields[12],fields[13],fields[14]])\n",
    "\n",
    "# Exclude the walk-up members - cause we want to sell membership to them! \n",
    "bcycleCust2016Members = bcycleCust2016Fields.filter(lambda fields: fields[0] != 'Walk Up')\n",
    "\n"
   ]
  },
  {
   "cell_type": "code",
   "execution_count": 14,
   "metadata": {},
   "outputs": [
    {
     "data": {
      "text/plain": [
       "[['Local365', 'below21', 'Male', 'visa'],\n",
       " ['Local365', 'below21', 'Female', 'visa'],\n",
       " ['Local365', 'below21', 'Male', 'mastercard'],\n",
       " ['Local365', '21 to 25', 'Female', 'mastercard'],\n",
       " ['Local365', '36 to 50', 'Male', 'amex'],\n",
       " ['Local365', '51 to 65', 'Female', 'mastercard'],\n",
       " ['Local365', '51 to 65', 'Female', 'visa'],\n",
       " ['Local365', '21 to 25', 'Male', 'unionpay'],\n",
       " ['Local365', '21 to 25', 'Male', 'amex'],\n",
       " ['Local365', '36 to 50', 'Male', 'unionpay'],\n",
       " ['Local365', '51 to 65', 'Female', 'others'],\n",
       " ['Local365', '51 to 65', 'Male', 'mastercard'],\n",
       " ['Local365', '36 to 50', 'Male', 'amex'],\n",
       " ['Local30', 'below21', 'Female', 'visa'],\n",
       " ['Local365', 'below21', 'Female', 'unionpay'],\n",
       " ['Local30', 'above 65', 'Female', 'mastercard'],\n",
       " ['Local365', '21 to 25', 'Female', 'mastercard'],\n",
       " ['Local365', 'below21', 'Female', 'amex'],\n",
       " ['Local365', '36 to 50', 'Female', 'amex'],\n",
       " ['Local30', 'above 65', 'Male', 'amex'],\n",
       " ['Local365', '51 to 65', 'Female', 'amex'],\n",
       " ['Local365', '36 to 50', 'Female', 'visa'],\n",
       " ['Local365', '51 to 65', 'Male', 'visa'],\n",
       " ['Local365', 'above 65', 'Female', 'unionpay'],\n",
       " ['Local365', 'below21', 'Male', 'mastercard'],\n",
       " ['Local365', 'below21', 'Male', 'others'],\n",
       " ['Local365', 'above 65', 'Female', 'others'],\n",
       " ['Local365', '36 to 50', 'Male', 'others'],\n",
       " ['Local365', 'above 65', 'Female', 'others'],\n",
       " ['Local30', '36 to 50', 'Female', 'others'],\n",
       " ['Local365', 'above 65', 'Male', 'mastercard'],\n",
       " ['Local365', '21 to 25', 'Male', 'visa'],\n",
       " ['Local365', '36 to 50', 'Female', 'mastercard'],\n",
       " ['Local365', 'below21', 'Female', 'others'],\n",
       " ['Local365', '36 to 50', 'Female', 'others'],\n",
       " ['Local30', '21 to 25', 'Male', 'mastercard'],\n",
       " ['Local30', 'above 65', 'Male', 'others'],\n",
       " ['Local365', 'above 65', 'Female', 'unionpay'],\n",
       " ['Local365', '36 to 50', 'Male', 'visa'],\n",
       " ['Explorer', 'above 65', 'Female', 'amex'],\n",
       " ['Local30', 'below21', 'Male', 'others'],\n",
       " ['Local365', 'above 65', 'Male', 'amex'],\n",
       " ['Local365', '36 to 50', 'Male', 'amex'],\n",
       " ['Local365', '51 to 65', 'Female', 'others'],\n",
       " ['Local365', 'above 65', 'Male', 'visa'],\n",
       " ['Local365', '21 to 25', 'Female', 'others'],\n",
       " ['Local365', '21 to 25', 'Male', 'visa'],\n",
       " ['Local30', '51 to 65', 'Female', 'visa'],\n",
       " ['Local365', 'below21', 'Female', 'visa'],\n",
       " ['Local365', 'below21', 'Female', 'unionpay']]"
      ]
     },
     "execution_count": 14,
     "metadata": {},
     "output_type": "execute_result"
    }
   ],
   "source": [
    "bcycleCust2016Members.take(50)"
   ]
  },
  {
   "cell_type": "code",
   "execution_count": 119,
   "metadata": {
    "collapsed": true
   },
   "outputs": [],
   "source": [
    "# Conversion of string variables into int variables to suit our model better.\n",
    "def preprocessClustingData(fields):\n",
    "    membershipInt = 0;\n",
    "    ageInt = 0;\n",
    "    genderInt = 0;\n",
    "    paymentInt = 0;\n",
    "    \n",
    "    # Convert membership string\n",
    "    if (fields[0] == 'Walk Up'):\n",
    "        membershipInt = 0.0\n",
    "    elif (fields[0] == 'Weekender'): \n",
    "        membershipInt = 1.0\n",
    "    elif (fields[0] == 'Local30'): \n",
    "        membershipInt = 2.0\n",
    "    elif (fields[0] == 'Local365'): \n",
    "        membershipInt = 3.0\n",
    "    else: \n",
    "        membershipInt = 4.0\n",
    "        \n",
    "    # Convert age string\n",
    "    if (fields[1] == 'below 21'):\n",
    "        ageInt = 0.0\n",
    "    elif (fields[1] == '21 to 35'): \n",
    "        ageInt = 1.0\n",
    "    elif (fields[1] == '36 to 50'): \n",
    "        ageInt = 2.0\n",
    "    elif (fields[1] == '51 to 65'): \n",
    "        ageInt = 3.0\n",
    "    elif (fields[1] == 'above 65'): \n",
    "        ageInt = 4.0\n",
    "    \n",
    "    # Convert gender string\n",
    "    if (fields[2] == 'male'):\n",
    "        genderInt = 0.0\n",
    "    else: \n",
    "        genderInt = 1.0\n",
    "    \n",
    "    # Convert payment string\n",
    "    if (fields[3] == 'visa'):\n",
    "        paymentInt = 0.0\n",
    "    elif (fields[3] == 'mastercard'): \n",
    "        paymentInt = 1.0\n",
    "    elif (fields[3] == 'amex'): \n",
    "        paymentInt = 2.0\n",
    "    elif (fields[3] == 'unionpay'): \n",
    "        paymentInt = 3.0\n",
    "    elif (fields[3] == 'others'): \n",
    "        paymentInt = 4.0\n",
    "\n",
    "    return [membershipInt,ageInt,genderInt,paymentInt]\n",
    "        \n",
    "# Mapping the preprocess data to the actual dataset\n",
    "bcycleCust2016FieldsPreprocessed = bcycleCust2016Members.map(preprocessClustingData)\n",
    "\n"
   ]
  },
  {
   "cell_type": "code",
   "execution_count": 120,
   "metadata": {},
   "outputs": [
    {
     "data": {
      "text/plain": [
       "[4.0, 4.0, 1.0, 4.0]"
      ]
     },
     "execution_count": 120,
     "metadata": {},
     "output_type": "execute_result"
    }
   ],
   "source": [
    "bcycleCust2016FieldsPreprocessed.max()"
   ]
  },
  {
   "cell_type": "code",
   "execution_count": 121,
   "metadata": {},
   "outputs": [
    {
     "name": "stdout",
     "output_type": "stream",
     "text": [
      "['Local365', 'Local365', 'Local365', 'Local30', 'Weekender', 'Local365', 'Local365', 'Local365']\n"
     ]
    }
   ],
   "source": [
    "# Build the model (cluster the data)\n",
    "from pyspark.mllib.clustering import KMeans\n",
    "model = KMeans.train(bcycleCust2016FieldsPreprocessed, 10, maxIterations=20, initializationMode='random')\n",
    "\n",
    "# Printing the center of the clusters \n",
    "clusterMembership = []\n",
    "for cluster in model.clusterCenters:\n",
    "    recommended = round(cluster[0])\n",
    "    if (recommended == 1.0):\n",
    "        clusterMembership.append('Weekender')\n",
    "    elif (recommended == 2.0):\n",
    "        clusterMembership.append('Local30')\n",
    "    else: \n",
    "        clusterMembership.append('Local365')\n",
    "\n",
    "print (clusterMembership)"
   ]
  },
  {
   "cell_type": "code",
   "execution_count": 122,
   "metadata": {},
   "outputs": [
    {
     "name": "stdout",
     "output_type": "stream",
     "text": [
      "[0.0, 2.0, 1.0, 3.0] --> Weekender\n",
      "[0.0, 2.0, 1.0, 4.0] --> Weekender\n",
      "[0.0, 2.0, 1.0, 1.0] --> Local30\n",
      "[0.0, 0, 1.0, 4.0] --> Weekender\n",
      "[0.0, 0, 1.0, 2.0] --> Weekender\n",
      "[0.0, 2.0, 1.0, 4.0] --> Weekender\n",
      "[0.0, 0, 1.0, 1.0] --> Weekender\n",
      "[0.0, 2.0, 1.0, 1.0] --> Local30\n",
      "[0.0, 4.0, 1.0, 2.0] --> Local365\n",
      "[0.0, 2.0, 1.0, 4.0] --> Weekender\n",
      "[0.0, 4.0, 1.0, 1.0] --> Local365\n",
      "[0.0, 4.0, 1.0, 4.0] --> Local365\n",
      "[0.0, 0, 1.0, 1.0] --> Weekender\n",
      "[0.0, 0, 1.0, 3.0] --> Weekender\n",
      "[0.0, 0, 1.0, 2.0] --> Weekender\n",
      "[0.0, 3.0, 1.0, 0.0] --> Local30\n",
      "[0.0, 3.0, 1.0, 4.0] --> Local365\n",
      "[0.0, 4.0, 1.0, 4.0] --> Local365\n",
      "[0.0, 3.0, 1.0, 2.0] --> Local365\n",
      "[0.0, 0, 1.0, 4.0] --> Weekender\n",
      "[0.0, 3.0, 1.0, 3.0] --> Local365\n",
      "[0.0, 3.0, 1.0, 3.0] --> Local365\n",
      "[0.0, 0, 1.0, 3.0] --> Weekender\n",
      "[0.0, 0, 1.0, 1.0] --> Weekender\n",
      "[0.0, 2.0, 1.0, 0.0] --> Local30\n",
      "[0.0, 2.0, 1.0, 2.0] --> Weekender\n",
      "[0.0, 0, 1.0, 0.0] --> Local365\n",
      "[0.0, 0, 1.0, 3.0] --> Weekender\n",
      "[0.0, 2.0, 1.0, 3.0] --> Weekender\n",
      "[0.0, 2.0, 1.0, 4.0] --> Weekender\n",
      "[0.0, 4.0, 1.0, 2.0] --> Local365\n",
      "[0.0, 0, 1.0, 1.0] --> Weekender\n",
      "[0.0, 3.0, 1.0, 2.0] --> Local365\n",
      "[0.0, 2.0, 1.0, 4.0] --> Weekender\n",
      "[0.0, 3.0, 1.0, 4.0] --> Local365\n",
      "[0.0, 0, 1.0, 0.0] --> Local365\n",
      "[0.0, 0, 1.0, 2.0] --> Weekender\n",
      "[0.0, 0, 1.0, 2.0] --> Weekender\n",
      "[0.0, 3.0, 1.0, 4.0] --> Local365\n",
      "[0.0, 3.0, 1.0, 4.0] --> Local365\n",
      "[0.0, 2.0, 1.0, 2.0] --> Weekender\n",
      "[0.0, 2.0, 1.0, 2.0] --> Weekender\n",
      "[0.0, 4.0, 1.0, 0.0] --> Local30\n",
      "[0.0, 2.0, 1.0, 4.0] --> Weekender\n",
      "[0.0, 4.0, 1.0, 3.0] --> Local365\n",
      "[0.0, 3.0, 1.0, 1.0] --> Local30\n",
      "[0.0, 4.0, 1.0, 2.0] --> Local365\n",
      "[0.0, 2.0, 1.0, 0.0] --> Local30\n",
      "[0.0, 2.0, 1.0, 1.0] --> Local30\n",
      "[0.0, 0, 1.0, 4.0] --> Weekender\n",
      "[0.0, 3.0, 1.0, 4.0] --> Local365\n",
      "[0.0, 4.0, 1.0, 0.0] --> Local30\n",
      "[0.0, 0, 1.0, 0.0] --> Local365\n",
      "[0.0, 3.0, 1.0, 1.0] --> Local30\n",
      "[0.0, 2.0, 1.0, 0.0] --> Local30\n",
      "[0.0, 4.0, 1.0, 2.0] --> Local365\n",
      "[0.0, 3.0, 1.0, 0.0] --> Local30\n",
      "[0.0, 0, 1.0, 3.0] --> Weekender\n",
      "[0.0, 4.0, 1.0, 2.0] --> Local365\n",
      "[0.0, 2.0, 1.0, 4.0] --> Weekender\n",
      "[0.0, 0, 1.0, 3.0] --> Weekender\n",
      "[0.0, 4.0, 1.0, 2.0] --> Local365\n",
      "[0.0, 0, 1.0, 1.0] --> Weekender\n",
      "[0.0, 0, 1.0, 1.0] --> Weekender\n",
      "[0.0, 4.0, 1.0, 0.0] --> Local30\n",
      "[0.0, 0, 1.0, 2.0] --> Weekender\n",
      "[0.0, 4.0, 1.0, 0.0] --> Local30\n",
      "[0.0, 4.0, 1.0, 4.0] --> Local365\n",
      "[0.0, 3.0, 1.0, 3.0] --> Local365\n",
      "[0.0, 4.0, 1.0, 2.0] --> Local365\n",
      "[0.0, 2.0, 1.0, 4.0] --> Weekender\n",
      "[0.0, 0, 1.0, 1.0] --> Weekender\n",
      "[0.0, 0, 1.0, 3.0] --> Weekender\n",
      "[0.0, 4.0, 1.0, 1.0] --> Local365\n",
      "[0.0, 3.0, 1.0, 3.0] --> Local365\n",
      "[0.0, 3.0, 1.0, 0.0] --> Local30\n",
      "[0.0, 2.0, 1.0, 1.0] --> Local30\n",
      "[0.0, 2.0, 1.0, 3.0] --> Weekender\n",
      "[0.0, 4.0, 1.0, 0.0] --> Local30\n",
      "[0.0, 0, 1.0, 1.0] --> Weekender\n",
      "[0.0, 0, 1.0, 3.0] --> Weekender\n",
      "[0.0, 0, 1.0, 4.0] --> Weekender\n",
      "[0.0, 2.0, 1.0, 3.0] --> Weekender\n",
      "[0.0, 3.0, 1.0, 4.0] --> Local365\n",
      "[0.0, 0, 1.0, 3.0] --> Weekender\n",
      "[0.0, 0, 1.0, 4.0] --> Weekender\n",
      "[0.0, 0, 1.0, 1.0] --> Weekender\n",
      "[0.0, 4.0, 1.0, 1.0] --> Local365\n",
      "[0.0, 0, 1.0, 0.0] --> Local365\n",
      "[0.0, 3.0, 1.0, 2.0] --> Local365\n",
      "[0.0, 3.0, 1.0, 1.0] --> Local30\n",
      "[0.0, 0, 1.0, 4.0] --> Weekender\n",
      "[0.0, 0, 1.0, 0.0] --> Local365\n",
      "[0.0, 2.0, 1.0, 1.0] --> Local30\n",
      "[0.0, 3.0, 1.0, 1.0] --> Local30\n",
      "[0.0, 2.0, 1.0, 1.0] --> Local30\n",
      "[0.0, 2.0, 1.0, 2.0] --> Weekender\n",
      "[0.0, 3.0, 1.0, 0.0] --> Local30\n",
      "[0.0, 0, 1.0, 1.0] --> Weekender\n",
      "[0.0, 0, 1.0, 2.0] --> Weekender\n"
     ]
    }
   ],
   "source": [
    "# Select walk up customers of bcycle in 2016\n",
    "bcycleCust2016WalkUp = bcycleCust2016Fields.filter(lambda fields: fields[0] == 'Walk Up')\n",
    "\n",
    "# Preprocess the data from string to int, and select 10 records for illustration\n",
    "bcycleCust2016WalkUpPreprocessed = bcycleCust2016WalkUp.map(preprocessClustingData)\n",
    "bcycleCust2016WalkUpPreprocessedSubset = bcycleCust2016WalkUpPreprocessed.take(100)\n",
    "\n",
    "for record in bcycleCust2016WalkUpPreprocessedSubset:\n",
    "    cluster = model.predict(record)\n",
    "    print(record, '-->', clusterMembership[model.predict(record)])"
   ]
  },
  {
   "cell_type": "markdown",
   "metadata": {},
   "source": [
    "### Data Exploration and Visualizations"
   ]
  },
  {
   "cell_type": "code",
   "execution_count": 129,
   "metadata": {},
   "outputs": [
    {
     "data": {
      "text/html": [
       "<div>\n",
       "<style>\n",
       "    .dataframe thead tr:only-child th {\n",
       "        text-align: right;\n",
       "    }\n",
       "\n",
       "    .dataframe thead th {\n",
       "        text-align: left;\n",
       "    }\n",
       "\n",
       "    .dataframe tbody tr th {\n",
       "        vertical-align: top;\n",
       "    }\n",
       "</style>\n",
       "<table border=\"1\" class=\"dataframe\">\n",
       "  <thead>\n",
       "    <tr style=\"text-align: right;\">\n",
       "      <th></th>\n",
       "      <th>Trip_ID</th>\n",
       "      <th>Membership_Type</th>\n",
       "      <th>Bicycle_ID</th>\n",
       "      <th>Checkout_Date</th>\n",
       "      <th>Checkout_Time</th>\n",
       "      <th>Checkout_Kiosk_ID</th>\n",
       "      <th>Checkout_Kiosk</th>\n",
       "      <th>Return_Kiosk ID</th>\n",
       "      <th>Return_Kiosk</th>\n",
       "      <th>Trip_Duration Minutes</th>\n",
       "      <th>Month</th>\n",
       "      <th>Year</th>\n",
       "      <th>Age_Range</th>\n",
       "      <th>Gender</th>\n",
       "      <th>Payment_Type</th>\n",
       "    </tr>\n",
       "  </thead>\n",
       "  <tbody>\n",
       "    <tr>\n",
       "      <th>0</th>\n",
       "      <td>12976114</td>\n",
       "      <td>Local365</td>\n",
       "      <td>329.0</td>\n",
       "      <td>11/25/2016</td>\n",
       "      <td>20:57:51</td>\n",
       "      <td>3390.0</td>\n",
       "      <td>Brazos &amp; 6th</td>\n",
       "      <td>2552.0</td>\n",
       "      <td>3rd &amp; West</td>\n",
       "      <td>7</td>\n",
       "      <td>11</td>\n",
       "      <td>2016</td>\n",
       "      <td>below21</td>\n",
       "      <td>Male</td>\n",
       "      <td>visa</td>\n",
       "    </tr>\n",
       "    <tr>\n",
       "      <th>1</th>\n",
       "      <td>12863382</td>\n",
       "      <td>Local365</td>\n",
       "      <td>924.0</td>\n",
       "      <td>11/16/2016</td>\n",
       "      <td>19:19:06</td>\n",
       "      <td>2552.0</td>\n",
       "      <td>3rd &amp; West</td>\n",
       "      <td>2501.0</td>\n",
       "      <td>5th &amp; Bowie</td>\n",
       "      <td>1</td>\n",
       "      <td>11</td>\n",
       "      <td>2016</td>\n",
       "      <td>below21</td>\n",
       "      <td>Female</td>\n",
       "      <td>visa</td>\n",
       "    </tr>\n",
       "    <tr>\n",
       "      <th>2</th>\n",
       "      <td>12814142</td>\n",
       "      <td>Local365</td>\n",
       "      <td>991.0</td>\n",
       "      <td>11/13/2016</td>\n",
       "      <td>16:08:04</td>\n",
       "      <td>2552.0</td>\n",
       "      <td>3rd &amp; West</td>\n",
       "      <td>2575.0</td>\n",
       "      <td>Riverside @ S. Lamar</td>\n",
       "      <td>25</td>\n",
       "      <td>11</td>\n",
       "      <td>2016</td>\n",
       "      <td>below21</td>\n",
       "      <td>Male</td>\n",
       "      <td>mastercard</td>\n",
       "    </tr>\n",
       "    <tr>\n",
       "      <th>3</th>\n",
       "      <td>12792474</td>\n",
       "      <td>Local365</td>\n",
       "      <td>666.0</td>\n",
       "      <td>11/11/2016</td>\n",
       "      <td>16:57:54</td>\n",
       "      <td>3390.0</td>\n",
       "      <td>Brazos &amp; 6th</td>\n",
       "      <td>2501.0</td>\n",
       "      <td>5th &amp; Bowie</td>\n",
       "      <td>10</td>\n",
       "      <td>11</td>\n",
       "      <td>2016</td>\n",
       "      <td>21 to 25</td>\n",
       "      <td>Female</td>\n",
       "      <td>mastercard</td>\n",
       "    </tr>\n",
       "    <tr>\n",
       "      <th>4</th>\n",
       "      <td>12766250</td>\n",
       "      <td>Local365</td>\n",
       "      <td>478.0</td>\n",
       "      <td>11/10/2016</td>\n",
       "      <td>7:21:01</td>\n",
       "      <td>2542.0</td>\n",
       "      <td>Plaza Saltillo</td>\n",
       "      <td>2542.0</td>\n",
       "      <td>Plaza Saltillo</td>\n",
       "      <td>0</td>\n",
       "      <td>11</td>\n",
       "      <td>2016</td>\n",
       "      <td>36 to 50</td>\n",
       "      <td>Male</td>\n",
       "      <td>amex</td>\n",
       "    </tr>\n",
       "  </tbody>\n",
       "</table>\n",
       "</div>"
      ],
      "text/plain": [
       "    Trip_ID Membership_Type  Bicycle_ID Checkout_Date Checkout_Time  \\\n",
       "0  12976114        Local365       329.0    11/25/2016      20:57:51   \n",
       "1  12863382        Local365       924.0    11/16/2016      19:19:06   \n",
       "2  12814142        Local365       991.0    11/13/2016      16:08:04   \n",
       "3  12792474        Local365       666.0    11/11/2016      16:57:54   \n",
       "4  12766250        Local365       478.0    11/10/2016       7:21:01   \n",
       "\n",
       "   Checkout_Kiosk_ID  Checkout_Kiosk  Return_Kiosk ID          Return_Kiosk  \\\n",
       "0             3390.0    Brazos & 6th           2552.0            3rd & West   \n",
       "1             2552.0      3rd & West           2501.0           5th & Bowie   \n",
       "2             2552.0      3rd & West           2575.0  Riverside @ S. Lamar   \n",
       "3             3390.0    Brazos & 6th           2501.0           5th & Bowie   \n",
       "4             2542.0  Plaza Saltillo           2542.0        Plaza Saltillo   \n",
       "\n",
       "   Trip_Duration Minutes  Month  Year Age_Range  Gender Payment_Type  \n",
       "0                      7     11  2016   below21    Male         visa  \n",
       "1                      1     11  2016   below21  Female         visa  \n",
       "2                     25     11  2016   below21    Male   mastercard  \n",
       "3                     10     11  2016  21 to 25  Female   mastercard  \n",
       "4                      0     11  2016  36 to 50    Male         amex  "
      ]
     },
     "execution_count": 129,
     "metadata": {},
     "output_type": "execute_result"
    }
   ],
   "source": [
    "#Loading the dataset as pandas dataframe for exploratory data analysis and visualization \n",
    "df4 = pd.read_csv('C:/Users/karth/Desktop/Bigdata/Austin_B-Cycle_Trips3.csv')\n",
    "df4.head()"
   ]
  },
  {
   "cell_type": "code",
   "execution_count": 128,
   "metadata": {
    "collapsed": true
   },
   "outputs": [],
   "source": [
    "import matplotlib.pyplot as plt\n",
    "import pandas as pd\n",
    "%matplotlib inline\n"
   ]
  },
  {
   "cell_type": "code",
   "execution_count": 130,
   "metadata": {
    "scrolled": false
   },
   "outputs": [
    {
     "data": {
      "text/plain": [
       "<matplotlib.axes._subplots.AxesSubplot at 0x20392ae3630>"
      ]
     },
     "execution_count": 130,
     "metadata": {},
     "output_type": "execute_result"
    },
    {
     "data": {
      "image/png": "[encoded data removed]",
      "text/plain": [
       "<matplotlib.figure.Figure at 0x20392ad8b38>"
      ]
     },
     "metadata": {},
     "output_type": "display_data"
    }
   ],
   "source": [
    "#Plotting Membership type count.\n",
    "df4['Membership_Type'].value_counts().plot()"
   ]
  },
  {
   "cell_type": "code",
   "execution_count": 131,
   "metadata": {},
   "outputs": [
    {
     "data": {
      "text/plain": [
       "<matplotlib.axes._subplots.AxesSubplot at 0x203929bba90>"
      ]
     },
     "execution_count": 131,
     "metadata": {},
     "output_type": "execute_result"
    },
    {
     "data": {
      "image/png": "[encoded data removed]",
      "text/plain": [
       "<matplotlib.figure.Figure at 0x20392af6978>"
      ]
     },
     "metadata": {},
     "output_type": "display_data"
    }
   ],
   "source": [
    "#Plotting Membership type count.\n",
    "df4['Membership_Type'].value_counts().plot('bar')"
   ]
  },
  {
   "cell_type": "code",
   "execution_count": 132,
   "metadata": {},
   "outputs": [
    {
     "data": {
      "text/plain": [
       "<matplotlib.axes._subplots.AxesSubplot at 0x20392b296d8>"
      ]
     },
     "execution_count": 132,
     "metadata": {},
     "output_type": "execute_result"
    },
    {
     "data": {
      "image/png": "[encoded data removed]",
      "text/plain": [
       "<matplotlib.figure.Figure at 0x20392b644a8>"
      ]
     },
     "metadata": {},
     "output_type": "display_data"
    }
   ],
   "source": [
    "#Plotting the most used kiosk for checkout.\n",
    "df4['Checkout_Kiosk'][:10].hist(bins = 30) "
   ]
  },
  {
   "cell_type": "markdown",
   "metadata": {},
   "source": [
    "### Logistic Regression"
   ]
  },
  {
   "cell_type": "code",
   "execution_count": 124,
   "metadata": {
    "collapsed": true
   },
   "outputs": [],
   "source": [
    "# Reading the dataset for Logitic regression\n",
    "bcycleCust1 = sc.textFile(\"C:/Users/karth/Desktop/Bigdata/Austin_B-Cycle_Trips3.csv\")\n",
    "rdd1 = bcycleCust1.map(lambda line: line.split(\",\"))"
   ]
  },
  {
   "cell_type": "code",
   "execution_count": 125,
   "metadata": {
    "scrolled": true
   },
   "outputs": [
    {
     "data": {
      "text/plain": [
       "[['Trip_ID',\n",
       "  'Membership_Type',\n",
       "  'Bicycle_ID',\n",
       "  'Checkout_Date',\n",
       "  'Checkout_Time',\n",
       "  'Checkout_Kiosk_ID',\n",
       "  'Checkout_Kiosk',\n",
       "  'Return_Kiosk ID',\n",
       "  'Return_Kiosk',\n",
       "  'Trip_Duration Minutes',\n",
       "  'Month',\n",
       "  'Year',\n",
       "  'Age_Range',\n",
       "  'Gender',\n",
       "  'Payment_Type'],\n",
       " ['12976114',\n",
       "  'Local365',\n",
       "  '329',\n",
       "  '11/25/2016',\n",
       "  '20:57:51',\n",
       "  '3390',\n",
       "  'Brazos & 6th',\n",
       "  '2552',\n",
       "  '3rd & West',\n",
       "  '7',\n",
       "  '11',\n",
       "  '2016',\n",
       "  'below21',\n",
       "  'Male',\n",
       "  'visa']]"
      ]
     },
     "execution_count": 125,
     "metadata": {},
     "output_type": "execute_result"
    }
   ],
   "source": [
    "#Viewing the imported data\n",
    "rdd1.take(2)"
   ]
  },
  {
   "cell_type": "code",
   "execution_count": 126,
   "metadata": {
    "collapsed": true
   },
   "outputs": [],
   "source": [
    "#removing the dataset header\n",
    "header = rdd1.first()\n",
    "rdd1 = rdd1. filter(lambda line:line != header)"
   ]
  },
  {
   "cell_type": "code",
   "execution_count": 127,
   "metadata": {},
   "outputs": [
    {
     "data": {
      "text/plain": [
       "[['12976114',\n",
       "  'Local365',\n",
       "  '329',\n",
       "  '11/25/2016',\n",
       "  '20:57:51',\n",
       "  '3390',\n",
       "  'Brazos & 6th',\n",
       "  '2552',\n",
       "  '3rd & West',\n",
       "  '7',\n",
       "  '11',\n",
       "  '2016',\n",
       "  'below21',\n",
       "  'Male',\n",
       "  'visa'],\n",
       " ['12863382',\n",
       "  'Local365',\n",
       "  '924',\n",
       "  '11/16/2016',\n",
       "  '19:19:06',\n",
       "  '2552',\n",
       "  '3rd & West',\n",
       "  '2501',\n",
       "  '5th & Bowie',\n",
       "  '1',\n",
       "  '11',\n",
       "  '2016',\n",
       "  'below21',\n",
       "  'Female',\n",
       "  'visa']]"
      ]
     },
     "execution_count": 127,
     "metadata": {},
     "output_type": "execute_result"
    }
   ],
   "source": [
    "rdd1.take(2)"
   ]
  },
  {
   "cell_type": "code",
   "execution_count": 133,
   "metadata": {
    "collapsed": true
   },
   "outputs": [],
   "source": [
    "# Choosing the features of interest: membership_type, age_range, gender, payment_type\n",
    "rdd1 = rdd1.map(lambda fields: [fields[1],fields[12],fields[13],fields[14]])"
   ]
  },
  {
   "cell_type": "code",
   "execution_count": 134,
   "metadata": {
    "collapsed": true
   },
   "outputs": [],
   "source": [
    "# Python function to convert from predefined string to int \n",
    "def preprocessClustingData1(fields):\n",
    "    membershipInt = 0;\n",
    "    ageInt = 0;\n",
    "    genderInt = 0;\n",
    "    paymentInt = 0;\n",
    "    \n",
    "    # Convert membership string\n",
    "    if (fields[0] == 'Weekender'):\n",
    "        membershipInt = 0.0\n",
    "    elif (fields[0] == 'Local30'): \n",
    "        membershipInt = 1.0\n",
    "    elif (fields[0] == 'Local365'): \n",
    "        membershipInt = 2.0\n",
    "    elif (fields[0] == 'PROHIBITED'): \n",
    "        membershipInt = 3.0\n",
    "    else: \n",
    "        membershipInt = 4.0\n",
    "        \n",
    "    # Convert age string\n",
    "    if (fields[1] == 'below 21'):\n",
    "        ageInt = 0.0\n",
    "    elif (fields[1] == '21 to 35'): \n",
    "        ageInt = 1.0\n",
    "    elif (fields[1] == '36 to 50'): \n",
    "        ageInt = 2.0\n",
    "    elif (fields[1] == '51 to 65'): \n",
    "        ageInt = 3.0\n",
    "    elif (fields[1] == 'above 65'): \n",
    "        ageInt = 4.0\n",
    "    else:\n",
    "        ageInt=5.0\n",
    "    \n",
    "    # Convert gender string\n",
    "    if (fields[2] == 'male'):\n",
    "        genderInt = 0.0\n",
    "    else: \n",
    "        genderInt = 1.0\n",
    "    \n",
    "    # Convert payment string\n",
    "    if (fields[3] == 'visa'):\n",
    "        paymentInt = 0.0\n",
    "    elif (fields[3] == 'mastercard'): \n",
    "        paymentInt = 1.0\n",
    "    elif (fields[3] == 'amex'): \n",
    "        paymentInt = 2.0\n",
    "    elif (fields[3] == 'unionpay'): \n",
    "        paymentInt = 3.0\n",
    "    elif (fields[3] == 'others'): \n",
    "        paymentInt = 4.0\n",
    "\n",
    "    return [membershipInt,ageInt,genderInt,paymentInt]\n",
    "        \n",
    "# Preprocess the data - convert from string to int \n",
    "rdd12 = rdd1.map(preprocessClustingData1)\n",
    "\n"
   ]
  },
  {
   "cell_type": "code",
   "execution_count": 135,
   "metadata": {},
   "outputs": [
    {
     "data": {
      "text/plain": [
       "[[2.0, 5.0, 1.0, 0.0], [2.0, 5.0, 1.0, 0.0]]"
      ]
     },
     "execution_count": 135,
     "metadata": {},
     "output_type": "execute_result"
    }
   ],
   "source": [
    "rdd12.take(2)"
   ]
  },
  {
   "cell_type": "code",
   "execution_count": 136,
   "metadata": {},
   "outputs": [
    {
     "data": {
      "text/html": [
       "<div>\n",
       "<style>\n",
       "    .dataframe thead tr:only-child th {\n",
       "        text-align: right;\n",
       "    }\n",
       "\n",
       "    .dataframe thead th {\n",
       "        text-align: left;\n",
       "    }\n",
       "\n",
       "    .dataframe tbody tr th {\n",
       "        vertical-align: top;\n",
       "    }\n",
       "</style>\n",
       "<table border=\"1\" class=\"dataframe\">\n",
       "  <thead>\n",
       "    <tr style=\"text-align: right;\">\n",
       "      <th></th>\n",
       "      <th>Age</th>\n",
       "      <th>Gender</th>\n",
       "      <th>Membership_type</th>\n",
       "      <th>Payment_type</th>\n",
       "    </tr>\n",
       "  </thead>\n",
       "  <tbody>\n",
       "    <tr>\n",
       "      <th>0</th>\n",
       "      <td>5.0</td>\n",
       "      <td>1.0</td>\n",
       "      <td>2.0</td>\n",
       "      <td>0.0</td>\n",
       "    </tr>\n",
       "    <tr>\n",
       "      <th>1</th>\n",
       "      <td>5.0</td>\n",
       "      <td>1.0</td>\n",
       "      <td>2.0</td>\n",
       "      <td>0.0</td>\n",
       "    </tr>\n",
       "    <tr>\n",
       "      <th>2</th>\n",
       "      <td>5.0</td>\n",
       "      <td>1.0</td>\n",
       "      <td>2.0</td>\n",
       "      <td>1.0</td>\n",
       "    </tr>\n",
       "    <tr>\n",
       "      <th>3</th>\n",
       "      <td>5.0</td>\n",
       "      <td>1.0</td>\n",
       "      <td>2.0</td>\n",
       "      <td>1.0</td>\n",
       "    </tr>\n",
       "    <tr>\n",
       "      <th>4</th>\n",
       "      <td>2.0</td>\n",
       "      <td>1.0</td>\n",
       "      <td>2.0</td>\n",
       "      <td>2.0</td>\n",
       "    </tr>\n",
       "  </tbody>\n",
       "</table>\n",
       "</div>"
      ],
      "text/plain": [
       "   Age  Gender  Membership_type  Payment_type\n",
       "0  5.0     1.0              2.0           0.0\n",
       "1  5.0     1.0              2.0           0.0\n",
       "2  5.0     1.0              2.0           1.0\n",
       "3  5.0     1.0              2.0           1.0\n",
       "4  2.0     1.0              2.0           2.0"
      ]
     },
     "execution_count": 136,
     "metadata": {},
     "output_type": "execute_result"
    }
   ],
   "source": [
    "#Converting the dataset into pandas for processing\n",
    "from pyspark.sql import Row\n",
    "df3 = rdd12.map(lambda line:Row(Membership_type = line[0],  Age=line[1], Gender =line[2], Payment_type =line[3],)).toDF()\n",
    "df3.toPandas().head()\n"
   ]
  },
  {
   "cell_type": "code",
   "execution_count": 137,
   "metadata": {
    "collapsed": true
   },
   "outputs": [],
   "source": [
    "#Selecting the required fields in the desired order.\n",
    "df3=df3.select('Membership_type','Age','Gender','Payment_type')"
   ]
  },
  {
   "cell_type": "code",
   "execution_count": 138,
   "metadata": {},
   "outputs": [
    {
     "name": "stdout",
     "output_type": "stream",
     "text": [
      "root\n",
      " |-- Membership_type: double (nullable = true)\n",
      " |-- Age: double (nullable = true)\n",
      " |-- Gender: double (nullable = true)\n",
      " |-- Payment_type: double (nullable = true)\n",
      "\n"
     ]
    }
   ],
   "source": [
    "#Viewing the schema\n",
    "df3.printSchema()"
   ]
  },
  {
   "cell_type": "code",
   "execution_count": 139,
   "metadata": {
    "collapsed": true
   },
   "outputs": [],
   "source": [
    "#Import necessary librabires for analysis \n",
    "import pyspark.mllib\n",
    "import pyspark.mllib.regression\n",
    "from pyspark.mllib.regression import LabeledPoint\n",
    "from pyspark.sql.functions import * \n",
    "import numpy as np"
   ]
  },
  {
   "cell_type": "code",
   "execution_count": 140,
   "metadata": {
    "collapsed": true
   },
   "outputs": [],
   "source": [
    "#Converting the data into labelled points\n",
    "temp = df3.rdd.map(lambda line: LabeledPoint(line[0],[line[1:]]))\n"
   ]
  },
  {
   "cell_type": "code",
   "execution_count": 141,
   "metadata": {},
   "outputs": [
    {
     "data": {
      "text/plain": [
       "[LabeledPoint(2.0, [5.0,1.0,0.0]),\n",
       " LabeledPoint(2.0, [5.0,1.0,0.0]),\n",
       " LabeledPoint(2.0, [5.0,1.0,1.0]),\n",
       " LabeledPoint(2.0, [5.0,1.0,1.0]),\n",
       " LabeledPoint(2.0, [2.0,1.0,2.0]),\n",
       " LabeledPoint(2.0, [3.0,1.0,1.0]),\n",
       " LabeledPoint(2.0, [3.0,1.0,0.0]),\n",
       " LabeledPoint(2.0, [5.0,1.0,3.0]),\n",
       " LabeledPoint(2.0, [5.0,1.0,2.0]),\n",
       " LabeledPoint(2.0, [2.0,1.0,3.0]),\n",
       " LabeledPoint(2.0, [3.0,1.0,4.0]),\n",
       " LabeledPoint(2.0, [3.0,1.0,1.0]),\n",
       " LabeledPoint(2.0, [2.0,1.0,2.0]),\n",
       " LabeledPoint(1.0, [5.0,1.0,0.0]),\n",
       " LabeledPoint(2.0, [5.0,1.0,3.0])]"
      ]
     },
     "execution_count": 141,
     "metadata": {},
     "output_type": "execute_result"
    }
   ],
   "source": [
    "#Viewing the data labelled points\n",
    "temp.take(15)"
   ]
  },
  {
   "cell_type": "code",
   "execution_count": 142,
   "metadata": {
    "collapsed": true
   },
   "outputs": [],
   "source": [
    "#Importing necessary libraries for feature scaling and transformation\n",
    "from pyspark.mllib.util import MLUtils\n",
    "from pyspark.mllib.linalg import Vectors\n",
    "from pyspark.ml.linalg import Vectors\n",
    "from pyspark.mllib.feature import StandardScaler"
   ]
  },
  {
   "cell_type": "code",
   "execution_count": 143,
   "metadata": {
    "collapsed": true
   },
   "outputs": [],
   "source": [
    "#Selecting the independant variables\n",
    "features = df3.rdd.map(lambda row: row[1:])"
   ]
  },
  {
   "cell_type": "code",
   "execution_count": 144,
   "metadata": {},
   "outputs": [
    {
     "data": {
      "text/plain": [
       "[(5.0, 1.0, 0.0)]"
      ]
     },
     "execution_count": 144,
     "metadata": {},
     "output_type": "execute_result"
    }
   ],
   "source": [
    "#Viewing the selected features\n",
    "features.take(1)"
   ]
  },
  {
   "cell_type": "code",
   "execution_count": 146,
   "metadata": {
    "collapsed": true
   },
   "outputs": [],
   "source": [
    "#Feature scaling and transformation\n",
    "standardizer = StandardScaler()\n",
    "model = standardizer.fit(features)\n",
    "features_transform = model.transform(features)"
   ]
  },
  {
   "cell_type": "code",
   "execution_count": 147,
   "metadata": {},
   "outputs": [
    {
     "data": {
      "text/plain": [
       "[DenseVector([4.2338, 0.0, 0.0]),\n",
       " DenseVector([4.2338, 0.0, 0.0]),\n",
       " DenseVector([4.2338, 0.0, 0.6946]),\n",
       " DenseVector([4.2338, 0.0, 0.6946]),\n",
       " DenseVector([1.6935, 0.0, 1.3893])]"
      ]
     },
     "execution_count": 147,
     "metadata": {},
     "output_type": "execute_result"
    }
   ],
   "source": [
    "#Viewing the features\n",
    "features_transform.take(5)"
   ]
  },
  {
   "cell_type": "code",
   "execution_count": 148,
   "metadata": {},
   "outputs": [
    {
     "data": {
      "text/plain": [
       "[2.0, 2.0, 2.0, 2.0, 2.0]"
      ]
     },
     "execution_count": 148,
     "metadata": {},
     "output_type": "execute_result"
    }
   ],
   "source": [
    "#Choosing the dependant variables\n",
    "labels = df3.rdd.map(lambda row: row[0])\n",
    "labels.take(5)"
   ]
  },
  {
   "cell_type": "code",
   "execution_count": 150,
   "metadata": {},
   "outputs": [
    {
     "data": {
      "text/plain": [
       "[(2.0, DenseVector([4.2338, 0.0, 0.0])),\n",
       " (2.0, DenseVector([4.2338, 0.0, 0.0])),\n",
       " (2.0, DenseVector([4.2338, 0.0, 0.6946])),\n",
       " (2.0, DenseVector([4.2338, 0.0, 0.6946])),\n",
       " (2.0, DenseVector([1.6935, 0.0, 1.3893]))]"
      ]
     },
     "execution_count": 150,
     "metadata": {},
     "output_type": "execute_result"
    }
   ],
   "source": [
    "#Combining the dependant and independant variables\n",
    "transformedData = labels.zip(features_transform)\n",
    "transformedData.take(5)"
   ]
  },
  {
   "cell_type": "code",
   "execution_count": 151,
   "metadata": {},
   "outputs": [
    {
     "data": {
      "text/plain": [
       "pyspark.rdd.PipelinedRDD"
      ]
     },
     "execution_count": 151,
     "metadata": {},
     "output_type": "execute_result"
    }
   ],
   "source": [
    "transformedData = transformedData.map(lambda row : LabeledPoint(row[0],row[1]))\n",
    "transformedData.take(5)\n",
    "type(transformedData)"
   ]
  },
  {
   "cell_type": "code",
   "execution_count": 153,
   "metadata": {
    "collapsed": true
   },
   "outputs": [],
   "source": [
    "#Split into train and test data\n",
    "trainingData, testingData = transformedData.randomSplit([.8,.2])\n"
   ]
  },
  {
   "cell_type": "code",
   "execution_count": 155,
   "metadata": {
    "collapsed": true
   },
   "outputs": [],
   "source": [
    "#Importing the logistic regression and evaluation metrics\n",
    "from pyspark.mllib.classification import LogisticRegressionWithLBFGS\n",
    "from pyspark.mllib.util import MLUtils\n",
    "from pyspark.mllib.evaluation import MulticlassMetrics"
   ]
  },
  {
   "cell_type": "code",
   "execution_count": 156,
   "metadata": {
    "collapsed": true
   },
   "outputs": [],
   "source": [
    "#Defining the model\n",
    "linearModel = LogisticRegressionWithLBFGS.train(trainingData, numClasses=4)"
   ]
  },
  {
   "cell_type": "code",
   "execution_count": 157,
   "metadata": {},
   "outputs": [
    {
     "data": {
      "text/plain": [
       "DenseVector([0.122, 0.0, 0.0338, 0.4443, 0.0, 0.1858, -2.7913, 0.0, -0.4374])"
      ]
     },
     "execution_count": 157,
     "metadata": {},
     "output_type": "execute_result"
    }
   ],
   "source": [
    "#Weights of the model\n",
    "linearModel.weights"
   ]
  },
  {
   "cell_type": "code",
   "execution_count": 158,
   "metadata": {},
   "outputs": [
    {
     "data": {
      "text/plain": [
       "[LabeledPoint(2.0, [4.23380281638,0.0,0.0]),\n",
       " LabeledPoint(2.0, [1.69352112655,0.0,1.38926672637]),\n",
       " LabeledPoint(2.0, [1.69352112655,0.0,1.38926672637]),\n",
       " LabeledPoint(1.0, [4.23380281638,0.0,0.0]),\n",
       " LabeledPoint(2.0, [4.23380281638,0.0,0.694633363187]),\n",
       " LabeledPoint(2.0, [2.54028168983,0.0,1.38926672637]),\n",
       " LabeledPoint(2.0, [3.3870422531,0.0,2.77853345275]),\n",
       " LabeledPoint(2.0, [1.69352112655,0.0,0.694633363187]),\n",
       " LabeledPoint(1.0, [4.23380281638,0.0,0.694633363187]),\n",
       " LabeledPoint(2.0, [3.3870422531,0.0,2.08390008956])]"
      ]
     },
     "execution_count": 158,
     "metadata": {},
     "output_type": "execute_result"
    }
   ],
   "source": [
    "#Viewing the test data\n",
    "testingData.take(10)"
   ]
  },
  {
   "cell_type": "code",
   "execution_count": 159,
   "metadata": {},
   "outputs": [
    {
     "data": {
      "text/plain": [
       "2"
      ]
     },
     "execution_count": 159,
     "metadata": {},
     "output_type": "execute_result"
    }
   ],
   "source": [
    "#Predicting the Membership type depending on the age gender and payment type\n",
    "linearModel.predict([5,1,3])"
   ]
  },
  {
   "cell_type": "code",
   "execution_count": 162,
   "metadata": {
    "collapsed": true
   },
   "outputs": [],
   "source": [
    "#Mapping prediction with features and labels for evaluating our model\n",
    "predictionAndLabels = testingData.map(lambda lp: (float(linearModel.predict(lp.features)), lp.label))"
   ]
  },
  {
   "cell_type": "code",
   "execution_count": 163,
   "metadata": {},
   "outputs": [],
   "source": [
    "#Defining evaluation metrics\n",
    "metrics = MulticlassMetrics(predictionAndLabels)"
   ]
  },
  {
   "cell_type": "code",
   "execution_count": 164,
   "metadata": {
    "collapsed": true
   },
   "outputs": [],
   "source": [
    "#Calling the metric values\n",
    "recall = metrics.recall()\n",
    "f1Score = metrics.fMeasure()\n"
   ]
  },
  {
   "cell_type": "code",
   "execution_count": 165,
   "metadata": {},
   "outputs": [
    {
     "name": "stdout",
     "output_type": "stream",
     "text": [
      "Summary Stats\n",
      "Recall = 0.6956393635827932\n",
      "F1 Score = 0.6956393635827932\n"
     ]
    }
   ],
   "source": [
    "#Printing the metric values,Accuracy of the model\n",
    "print(\"Summary Stats\")\n",
    "print(\"Recall = %s\" % recall)\n",
    "print(\"F1 Score = %s\" % f1Score)"
   ]
  },
  {
   "cell_type": "markdown",
   "metadata": {},
   "source": [
    "Insights:\n",
    "1. From the visualizations we could make out that there are no individuals or customers who were prohibited from receiving any kind of memberships. \n",
    "1. From Logistic regression the most membership given out based on age, paymnet type and gender is Local 365 which means that the local people rent bicycle more frequently \n",
    "2. From K means clustering it is evident that most recommended membership type based on age, paymnet type and gender is Local 365 which means that the local people rent bicycle more frequently \n",
    "3. The average rental duration is 4.2 days approximately.\n",
    "4. The most activity of the bicycle is concentrated in Kiosks Convention Center, Davis at Rainey S which are in the more busy parts of the city.\n"
   ]
  },
  {
   "cell_type": "markdown",
   "metadata": {},
   "source": [
    "### Recommendations "
   ]
  },
  {
   "cell_type": "markdown",
   "metadata": {},
   "source": [
    "1. As we found the most used Kiosks this will be valuable to the operations team to rotate bicycles accordingly and concentrate more inventory of cycles in these kiosks \n",
    "2. Similar to the above point we found the lowest used kiosks for checkouts which can be valuable insights for the startegy and marketing team to focus more on sales and increase the rentals by using various marketing strategies \n",
    "3. As the most recommended membership predicted by the models are Local 365 this will give the management team and marketing team valuable data to retain customers and to churn more with respect to age, gender and payment type.\n",
    "4. The model prediction also generated better insights for the most suitable and recommended membership is Local 365 for walk up customers which will help the strategy team to concentrate on the features which affected the most for this and can make tweaks to the existing membership priviliges to make the membership more attractive for customer retaining.  "
   ]
  }
 ],
 "metadata": {
  "kernelspec": {
   "display_name": "Python 3",
   "language": "python",
   "name": "python3"
  },
  "language_info": {
   "codemirror_mode": {
    "name": "ipython",
    "version": 3
   },
   "file_extension": ".py",
   "mimetype": "text/x-python",
   "name": "python",
   "nbconvert_exporter": "python",
   "pygments_lexer": "ipython3",
   "version": "3.6.3"
  }
 },
 "nbformat": 4,
 "nbformat_minor": 2
}
